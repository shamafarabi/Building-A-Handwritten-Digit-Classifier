{
 "cells": [
  {
   "cell_type": "markdown",
   "metadata": {},
   "source": [
    "# Import Packages"
   ]
  },
  {
   "cell_type": "code",
   "execution_count": 1,
   "metadata": {
    "collapsed": false
   },
   "outputs": [],
   "source": [
    "import numpy as np\n",
    "import pandas as pd\n",
    "from sklearn.datasets import load_digits\n",
    "from sklearn.neighbors import KNeighborsClassifier\n",
    "from sklearn.neural_network import MLPClassifier\n",
    "from sklearn.model_selection import KFold\n",
    "import matplotlib.pyplot as plt\n",
    "from sklearn.metrics import accuracy_score\n",
    "\n"
   ]
  },
  {
   "cell_type": "markdown",
   "metadata": {},
   "source": [
    " # Inspecting the Image Data "
   ]
  },
  {
   "cell_type": "markdown",
   "metadata": {},
   "source": [
    "      *Load Data "
   ]
  },
  {
   "cell_type": "code",
   "execution_count": 2,
   "metadata": {
    "collapsed": false
   },
   "outputs": [],
   "source": [
    "X= load_digits().data;#image pixels in a row format\n",
    "Y=load_digits().target;#label for each image"
   ]
  },
  {
   "cell_type": "markdown",
   "metadata": {},
   "source": [
    "    *Visualize the images in grid plot "
   ]
  },
  {
   "cell_type": "code",
   "execution_count": 3,
   "metadata": {
    "collapsed": false
   },
   "outputs": [
    {
     "data": {
      "text/plain": [
       "<matplotlib.figure.Figure at 0x7faeeb418c88>"
      ]
     },
     "execution_count": 3,
     "metadata": {},
     "output_type": "execute_result"
    }
   ],
   "source": [
    "fig, ax = plt.subplots(2, 4, sharex='col', sharey='row')\n",
    "plt.title('Some Images in the Dataset')\n",
    "# axes are in a two-dimensional array, indexed by [row, col]\n",
    "rows=[0,100,200,300,1000,1100,1200,1300]\n",
    "n=0\n",
    "\n",
    "for i in range(2):\n",
    "    for j in range(4):\n",
    "        first_image=X[rows[n]];\n",
    "        first_image_2D=first_image.reshape(8,8) #  *Convert row to a 2D numpy array \n",
    "        ax[i, j].imshow(first_image_2D)# plot the image in the current i,j grid\n",
    "        n=n+1\n",
    "fig\n",
    "\n"
   ]
  },
  {
   "cell_type": "markdown",
   "metadata": {},
   "source": [
    "#  KNN with KFold Cross Validation"
   ]
  },
  {
   "cell_type": "markdown",
   "metadata": {},
   "source": [
    "    *Define functions"
   ]
  },
  {
   "cell_type": "code",
   "execution_count": 4,
   "metadata": {
    "collapsed": false,
    "scrolled": true
   },
   "outputs": [],
   "source": [
    "def train(x,y,k):\n",
    "    knn=KNeighborsClassifier(n_neighbors=k)\n",
    "    knn.fit(x,y)\n",
    "    return knn\n",
    "\n",
    "def test(Xtr,Ytr,Xte,k):\n",
    "    Yte=train(Xtr,Ytr,k).predict(Xte)\n",
    "    return Yte\n",
    "\n",
    "def cv_knn(X,Y,k):\n",
    "    \n",
    "    k_fold = KFold(n_splits=4)\n",
    "    scores=[]\n",
    "    for train_indices, test_indices in k_fold.split(X):\n",
    "        trainX=X[train_indices]\n",
    "        trainY=Y[train_indices]\n",
    "        testX=X[test_indices]\n",
    "        y_pred= test(trainX,trainY,testX,k)\n",
    "        Fit=train(trainX,trainY,k)\n",
    "        score=accuracy_score(y_pred, Y[test_indices])\n",
    "        scores.append(score)\n",
    "    return np.mean(scores)\n",
    "\n"
   ]
  },
  {
   "cell_type": "markdown",
   "metadata": {},
   "source": [
    "    *Calculate accuracies for different k values"
   ]
  },
  {
   "cell_type": "code",
   "execution_count": 5,
   "metadata": {
    "collapsed": false
   },
   "outputs": [
    {
     "name": "stdout",
     "output_type": "stream",
     "text": [
      "[0.9677233358079684, 0.9616010888393962, 0.9627183865379857, 0.9649480326651819, 0.9621665429349171, 0.9588270230141054, 0.9571591190299431, 0.9571578817124474, 0.9543801039346697, 0.9527097253155159]\n"
     ]
    }
   ],
   "source": [
    "knn_accuracies=[]\n",
    "k=np.linspace(1,10,10)\n",
    "\n",
    "for i in k:\n",
    "    knn_accuracy=cv_knn(X,Y,int(i))\n",
    "    knn_accuracies.append(knn_accuracy)\n",
    "   \n",
    "plt.plot(k,knn_accuracies)\n",
    "plt.title('KNN Model: Mean Accuracy vs k')\n",
    "plt.xlabel('Number of Nearest Neighbors (k)')\n",
    "plt.ylabel('Mean Accuracy')\n",
    "print(knn_accuracies)"
   ]
  },
  {
   "cell_type": "markdown",
   "metadata": {},
   "source": [
    "# Neural Network with Single Hidden  Layer "
   ]
  },
  {
   "cell_type": "markdown",
   "metadata": {},
   "source": [
    "* Calculate accuracies for different number of neurons "
   ]
  },
  {
   "cell_type": "code",
   "execution_count": 6,
   "metadata": {
    "collapsed": false
   },
   "outputs": [
    {
     "name": "stderr",
     "output_type": "stream",
     "text": [
      "/dataquest/system/env/python3/lib/python3.4/site-packages/sklearn/neural_network/multilayer_perceptron.py:563: ConvergenceWarning: Stochastic Optimizer: Maximum iterations reached and the optimization hasn't converged yet.\n",
      "  % (), ConvergenceWarning)\n"
     ]
    },
    {
     "data": {
      "text/plain": [
       "<matplotlib.text.Text at 0x7faeeb564ef0>"
      ]
     },
     "execution_count": 6,
     "metadata": {},
     "output_type": "execute_result"
    }
   ],
   "source": [
    "neurons=[8,16,32,64,128,256]\n",
    "mlp_accuracies=[]\n",
    "for n in neurons:\n",
    "    model=MLPClassifier(hidden_layer_sizes=(n,))\n",
    "    scores_mlp=[]\n",
    "    n_fold = KFold(n_splits=4)\n",
    "    for train_indices, test_indices in n_fold.split(X):\n",
    "        trainX=X[train_indices]\n",
    "        trainY=Y[train_indices]\n",
    "        testX=X[test_indices]\n",
    "        model.fit(trainX,trainY)\n",
    "        y_pred_mlp= model.predict(testX)\n",
    "        score_mlp=accuracy_score(y_pred_mlp, Y[test_indices])\n",
    "        scores_mlp.append(score_mlp)\n",
    " \n",
    "    mlp_accuracies.append(np.mean(scores_mlp))\n",
    "\n",
    "plt.plot(neurons,mlp_accuracies)\n",
    "plt.title('Neural Network: Mean Accuracy vs Neurons')\n",
    "plt.xlabel('Number of Neurons')\n",
    "plt.ylabel('Mean Accuracy')\n",
    "\n",
    "    "
   ]
  },
  {
   "cell_type": "code",
   "execution_count": null,
   "metadata": {
    "collapsed": true
   },
   "outputs": [],
   "source": [
    "print(mlp_accuracies)"
   ]
  },
  {
   "cell_type": "markdown",
   "metadata": {
    "collapsed": true
   },
   "source": [
    "# Neural Network with TWO  Hidden Layers"
   ]
  },
  {
   "cell_type": "code",
   "execution_count": 13,
   "metadata": {
    "collapsed": false
   },
   "outputs": [
    {
     "data": {
      "text/plain": [
       "<matplotlib.text.Text at 0x7faeeb564ef0>"
      ]
     },
     "execution_count": 13,
     "metadata": {},
     "output_type": "execute_result"
    }
   ],
   "source": [
    "neuronh2=[(64,64),(128,128),(256,256)]\n",
    "\n",
    "mlph2_accuracies=[]\n",
    "for l in neuronh2:\n",
    "    model=MLPClassifier(hidden_layer_sizes=(l))\n",
    "    scores_mlph2=[]\n",
    "    n_fold = KFold(n_splits=4)\n",
    "    for train_indices, test_indices in n_fold.split(X):\n",
    "        trainX=X[train_indices]\n",
    "        trainY=Y[train_indices]\n",
    "        testX=X[test_indices]\n",
    "        model.fit(trainX,trainY)\n",
    "        y_pred_mlph2= model.predict(testX)\n",
    "        score_mlph2=accuracy_score(y_pred_mlph2, Y[test_indices])\n",
    "        scores_mlph2.append(score_mlph2)\n",
    " \n",
    "    mlph2_accuracies.append(np.mean(scores_mlph))\n",
    "    \n",
    "n=[i[0] for i in neuronh2]\n",
    "plt.plot(n,mlph2_accuracies)\n",
    "plt.title('Neural Network with 2 Layers: Mean Accuracy vs neurons')\n",
    "plt.xlabel('Number of Neurons')\n",
    "plt.ylabel('Mean Accuracy')\n"
   ]
  },
  {
   "cell_type": "code",
   "execution_count": null,
   "metadata": {
    "collapsed": true
   },
   "outputs": [],
   "source": [
    "print(mlph2_accuracies)"
   ]
  },
  {
   "cell_type": "markdown",
   "metadata": {},
   "source": [
    "# Neural Network with Three  Hidden Layers"
   ]
  },
  {
   "cell_type": "code",
   "execution_count": 16,
   "metadata": {
    "collapsed": false
   },
   "outputs": [
    {
     "data": {
      "text/plain": [
       "<matplotlib.text.Text at 0x7faeeb564ef0>"
      ]
     },
     "execution_count": 16,
     "metadata": {},
     "output_type": "execute_result"
    }
   ],
   "source": [
    "neuronh3=[(64,64,64),(128,128,128),(256,256,256)]\n",
    "\n",
    "mlph3_accuracies=[]\n",
    "for l in neuronh3:\n",
    "    model=MLPClassifier(hidden_layer_sizes=(l))\n",
    "    scores_mlph3=[]\n",
    "    n_fold = KFold(n_splits=4)\n",
    "    for train_indices, test_indices in n_fold.split(X):\n",
    "        trainX=X[train_indices]\n",
    "        trainY=Y[train_indices]\n",
    "        testX=X[test_indices]\n",
    "        model.fit(trainX,trainY)\n",
    "        y_pred_mlph3= model.predict(testX)\n",
    "        score_mlph3=accuracy_score(y_pred_mlph3, Y[test_indices])\n",
    "        scores_mlph3.append(score_mlph3)\n",
    " \n",
    "    mlph3_accuracies.append(np.mean(scores_mlph3))\n",
    "    \n",
    "n=[i[0] for i in neuronh3]\n",
    "plt.plot(n,mlph3_accuracies)\n",
    "plt.title('Neural Network with 3 Layers: Mean Accuracy vs neurons')\n",
    "plt.xlabel('Number of Neurons')\n",
    "plt.ylabel('Mean Accuracy')"
   ]
  },
  {
   "cell_type": "code",
   "execution_count": 17,
   "metadata": {
    "collapsed": false
   },
   "outputs": [
    {
     "name": "stdout",
     "output_type": "stream",
     "text": [
      "[0.9499059638703291, 0.9454578074733977, 0.9565924276169265]\n"
     ]
    }
   ],
   "source": [
    "print(mlph3_accuracies)"
   ]
  },
  {
   "cell_type": "markdown",
   "metadata": {
    "collapsed": true
   },
   "source": [
    "# Conclusion"
   ]
  },
  {
   "cell_type": "markdown",
   "metadata": {},
   "source": [
    "As all the scores were calculated byt using 4fold cross validation to test the performance of the model on unseen data, the scores can give us a fair idea if any of these models are likely to overfit. Classifying with KNN has a maximum accuracy of 96.7%, which is better than the accuracy that can be obtained  with only 8 neurons in single hidden layer. However, as the number of neurons in the hidden layer is tuned, the accuracy of the neural network approach keeps increasing eventually giving an higher accuracy () for single layer with # neurons close to what is obtained with the KNN approach. Further improvement in the accuracy is possible by adding more hidden layers in the network. For example, when number of layer is increased from one to three, for 64 neurons in each layer, the accuracy is improved upto 95.65% with the neural network approach. \n",
    "\n",
    " "
   ]
  }
 ],
 "metadata": {
  "anaconda-cloud": {},
  "kernelspec": {
   "display_name": "Python 3",
   "language": "python",
   "name": "python3"
  },
  "language_info": {
   "codemirror_mode": {
    "name": "ipython",
    "version": 3
   },
   "file_extension": ".py",
   "mimetype": "text/x-python",
   "name": "python",
   "nbconvert_exporter": "python",
   "pygments_lexer": "ipython3",
   "version": "3.4.3"
  }
 },
 "nbformat": 4,
 "nbformat_minor": 2
}
